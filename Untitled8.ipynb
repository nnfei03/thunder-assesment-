{
 "cells": [
  {
   "cell_type": "code",
   "execution_count": 2,
   "id": "e43f66b3-deab-4bde-a20f-fbed300cbacb",
   "metadata": {},
   "outputs": [
    {
     "name": "stderr",
     "output_type": "stream",
     "text": [
      "\n",
      "\u001b[36m──\u001b[39m \u001b[1m\u001b[1mColumn specification\u001b[1m\u001b[22m \u001b[36m────────────────────────────────────────────────────────\u001b[39m\n",
      "cols(\n",
      "  team = \u001b[31mcol_character()\u001b[39m,\n",
      "  x = \u001b[32mcol_double()\u001b[39m,\n",
      "  y = \u001b[32mcol_double()\u001b[39m,\n",
      "  fgmade = \u001b[32mcol_double()\u001b[39m\n",
      ")\n",
      "\n",
      "\n"
     ]
    }
   ],
   "source": [
    "library(readr)\n",
    "shots<- read_csv(\"shots_data.csv\")"
   ]
  },
  {
   "cell_type": "code",
   "execution_count": 12,
   "id": "d3993c4a-8724-4fd1-a7c5-5c955ddf5fe6",
   "metadata": {},
   "outputs": [],
   "source": [
    "zone=numeric()\n",
    "i=1\n",
    "while(i<=length(shots$team))  # 8.94^2 = 23.75^2 - 22^2 \n",
    "{\n",
    "  dist=sqrt(shots$y[i]**2 + shots$x[i]**2)  #dist is the distance from hoop to shot \n",
    "    \n",
    "  if(abs(shots$x[i])>=22 & shots$y[i]<=7.8)  #critiria for c3.\n",
    "  {\n",
    "    zone[i]=\"c3\"\n",
    "  }\n",
    "  else if(shots$y[i] > 7.8 & dist>=23.75) #criteria for nc3\n",
    "{\n",
    "    zone[i]=\"nc3\"\n",
    "  }\n",
    "  else if(shots$y[i]>7.8 & dist<23.75)  #criteria for non corner 2 this area i top area in calulate \n",
    "  {\n",
    "    zone[i]=\"2pt\"\n",
    "  }\n",
    "  else if(abs(shots$x[i])<22 & shots$y[i]<=7.8 ) #criteria for corner 2 this area is bottom square area \n",
    "  {\n",
    "    zone[i]=\"2pt\"\n",
    "  }\n",
    "  else  \n",
    "  {\n",
    "    zone[i]=\"error\"  #if none of the previous then error\n",
    "  }\n",
    " i=i+1\n",
    "}\n",
    "shots$zone=zone"
   ]
  },
  {
   "cell_type": "code",
   "execution_count": 13,
   "id": "61ca0e1f-33ab-414c-972a-c099d2cd3084",
   "metadata": {},
   "outputs": [],
   "source": [
    "library(tidyverse)"
   ]
  },
  {
   "cell_type": "code",
   "execution_count": 14,
   "id": "77788162-8724-4389-bbd5-4eef1558005d",
   "metadata": {},
   "outputs": [
    {
     "data": {
      "text/html": [
       "0.607142857142857"
      ],
      "text/latex": [
       "0.607142857142857"
      ],
      "text/markdown": [
       "0.607142857142857"
      ],
      "text/plain": [
       "[1] 0.6071429"
      ]
     },
     "metadata": {},
     "output_type": "display_data"
    }
   ],
   "source": [
    "# 5.For Team A, what percentage of their shots were attempted in the 2PT zone? Rounded to 3 decimal places \n",
    "teamA=filter(shots,team==\"Team A\") #teamA ground databasse player \n",
    "\n",
    "sum(teamA$zone==\"2pt\")/length(teamA$zone) #sum of 2pt area shots divided by the total"
   ]
  },
  {
   "cell_type": "code",
   "execution_count": 6,
   "id": "4df5c158-f63b-49c9-853b-de3282278b2f",
   "metadata": {},
   "outputs": [
    {
     "data": {
      "text/html": [
       "0.321428571428571"
      ],
      "text/latex": [
       "0.321428571428571"
      ],
      "text/markdown": [
       "0.321428571428571"
      ],
      "text/plain": [
       "[1] 0.3214286"
      ]
     },
     "metadata": {},
     "output_type": "display_data"
    }
   ],
   "source": [
    "#6.For Team A, what percentage of their shots were attempted in the NC3 zone? Rounded to 3 decimal places\n",
    "sum(teamA$zone==\"nc3\")/length(teamA$zone)"
   ]
  },
  {
   "cell_type": "code",
   "execution_count": 7,
   "id": "3f4448ec-42aa-45a7-82be-f910904268ff",
   "metadata": {},
   "outputs": [
    {
     "data": {
      "text/html": [
       "0.0714285714285714"
      ],
      "text/latex": [
       "0.0714285714285714"
      ],
      "text/markdown": [
       "0.0714285714285714"
      ],
      "text/plain": [
       "[1] 0.07142857"
      ]
     },
     "metadata": {},
     "output_type": "display_data"
    }
   ],
   "source": [
    "##7.For Team A, what percentage of their shots were attempted in the C3 zone? Rounded to 3 decimal places\n",
    "sum(teamA$zone==\"c3\")/length(teamA$zone)"
   ]
  },
  {
   "cell_type": "code",
   "execution_count": 15,
   "id": "fc8ddc60-1c0a-4e1d-a394-a64b6eb73e64",
   "metadata": {},
   "outputs": [
    {
     "data": {
      "text/html": [
       "0.4"
      ],
      "text/latex": [
       "0.4"
      ],
      "text/markdown": [
       "0.4"
      ],
      "text/plain": [
       "[1] 0.4"
      ]
     },
     "metadata": {},
     "output_type": "display_data"
    }
   ],
   "source": [
    "# 8.For Team A, what was the eFG in the 2PT zone? Rounded to 3 decimal places\n",
    "sum(teamA$zone==\"2pt\" & teamA$fgmade==1)/sum(teamA$zone==\"2pt\")\n"
   ]
  },
  {
   "cell_type": "code",
   "execution_count": 16,
   "id": "164d3cdb-44e3-42ac-8641-3473977f2519",
   "metadata": {},
   "outputs": [
    {
     "data": {
      "text/html": [
       "0.483333333333333"
      ],
      "text/latex": [
       "0.483333333333333"
      ],
      "text/markdown": [
       "0.483333333333333"
      ],
      "text/plain": [
       "[1] 0.4833333"
      ]
     },
     "metadata": {},
     "output_type": "display_data"
    }
   ],
   "source": [
    "#9.For Team A, what was the eFG in the NC3 zone? Rounded to 3 decimal places\n",
    "(1.5*sum(teamA$zone==\"nc3\" & teamA$fgmade==1))/sum(teamA$zone==\"nc3\")"
   ]
  },
  {
   "cell_type": "code",
   "execution_count": 17,
   "id": "cd4912a0-e852-470f-b274-13644b50924f",
   "metadata": {},
   "outputs": [
    {
     "data": {
      "text/html": [
       "0.6"
      ],
      "text/latex": [
       "0.6"
      ],
      "text/markdown": [
       "0.6"
      ],
      "text/plain": [
       "[1] 0.6"
      ]
     },
     "metadata": {},
     "output_type": "display_data"
    }
   ],
   "source": [
    "#10.For Team A, what was the eFG in the C3 zone? Rounded to 3 decimal places?\n",
    "(1.5*sum(teamA$zone==\"c3\" & teamA$fgmade==1))/sum(teamA$zone==\"c3\")"
   ]
  },
  {
   "cell_type": "code",
   "execution_count": 18,
   "id": "f80541fe-9309-467f-bff7-ea46d75a54f4",
   "metadata": {},
   "outputs": [
    {
     "data": {
      "text/html": [
       "0.582142857142857"
      ],
      "text/latex": [
       "0.582142857142857"
      ],
      "text/markdown": [
       "0.582142857142857"
      ],
      "text/plain": [
       "[1] 0.5821429"
      ]
     },
     "metadata": {},
     "output_type": "display_data"
    }
   ],
   "source": [
    "#11.For Team B, what percentage of their shots were attempted in the 2PT zone? \n",
    "teamB=filter(shots,team==\"Team B\") #teamB is a dataframe of team B's shots\n",
    "\n",
    "sum(teamB$zone==\"2pt\")/length(teamB$zone)"
   ]
  },
  {
   "cell_type": "code",
   "execution_count": 19,
   "id": "172992b0-12c2-4afb-9f33-6d88ba110c96",
   "metadata": {},
   "outputs": [
    {
     "data": {
      "text/html": [
       "0.342857142857143"
      ],
      "text/latex": [
       "0.342857142857143"
      ],
      "text/markdown": [
       "0.342857142857143"
      ],
      "text/plain": [
       "[1] 0.3428571"
      ]
     },
     "metadata": {},
     "output_type": "display_data"
    }
   ],
   "source": [
    "#12. For Team B, what percentage of their shots were attempted in the NC3 zone?\n",
    "sum(teamB$zone==\"nc3\")/length(teamB$zone)#sum of nc3 shots divided by the total"
   ]
  },
  {
   "cell_type": "code",
   "execution_count": 20,
   "id": "1c49e1ba-d10b-4b49-8371-60fa3608b971",
   "metadata": {},
   "outputs": [
    {
     "data": {
      "text/html": [
       "0.075"
      ],
      "text/latex": [
       "0.075"
      ],
      "text/markdown": [
       "0.075"
      ],
      "text/plain": [
       "[1] 0.075"
      ]
     },
     "metadata": {},
     "output_type": "display_data"
    }
   ],
   "source": [
    "#13. For Team B, what percentage of their shots were attempted in the C3 zone?\n",
    "sum(teamB$zone==\"c3\")/length(teamB$zone)"
   ]
  },
  {
   "cell_type": "code",
   "execution_count": 21,
   "id": "17dfa542-325a-4f25-be3e-c4622620eed1",
   "metadata": {},
   "outputs": [
    {
     "data": {
      "text/html": [
       "0.460122699386503"
      ],
      "text/latex": [
       "0.460122699386503"
      ],
      "text/markdown": [
       "0.460122699386503"
      ],
      "text/plain": [
       "[1] 0.4601227"
      ]
     },
     "metadata": {},
     "output_type": "display_data"
    }
   ],
   "source": [
    "#14.For Team B, what was the eFG in the 2PT zone? Rounded to 3 decimal places?\n",
    "sum(teamB$zone==\"2pt\" & teamB$fgmade==1)/sum(teamB$zone==\"2pt\")"
   ]
  },
  {
   "cell_type": "code",
   "execution_count": 22,
   "id": "0b388be5-e85c-482c-ab42-6b9a86451ba8",
   "metadata": {},
   "outputs": [
    {
     "data": {
      "text/html": [
       "0.546875"
      ],
      "text/latex": [
       "0.546875"
      ],
      "text/markdown": [
       "0.546875"
      ],
      "text/plain": [
       "[1] 0.546875"
      ]
     },
     "metadata": {},
     "output_type": "display_data"
    }
   ],
   "source": [
    "#15.For Team B, what was the eFG in the NC3 zone? Rounded to 3 decimal places (e.g. 0.531).\n",
    "(1.5*sum(teamB$zone==\"nc3\" & teamB$fgmade==1))/sum(teamB$zone==\"nc3\")"
   ]
  },
  {
   "cell_type": "code",
   "execution_count": 23,
   "id": "f20f1bd8-b8d6-458f-b89c-8ff9e0f32390",
   "metadata": {},
   "outputs": [
    {
     "data": {
      "text/html": [
       "0.357142857142857"
      ],
      "text/latex": [
       "0.357142857142857"
      ],
      "text/markdown": [
       "0.357142857142857"
      ],
      "text/plain": [
       "[1] 0.3571429"
      ]
     },
     "metadata": {},
     "output_type": "display_data"
    }
   ],
   "source": [
    "#16.For Team B, what was the eFG in the C3 zone? Rounded to 3 decimal places (e.g. 0.531).\n",
    "(1.5*sum(teamB$zone==\"c3\" & teamB$fgmade==1))/sum(teamB$zone==\"c3\")"
   ]
  },
  {
   "cell_type": "code",
   "execution_count": null,
   "id": "1cc8ccaa-adae-40be-b7a0-9c00c7573aef",
   "metadata": {},
   "outputs": [],
   "source": []
  }
 ],
 "metadata": {
  "kernelspec": {
   "display_name": "R",
   "language": "R",
   "name": "ir"
  },
  "language_info": {
   "codemirror_mode": "r",
   "file_extension": ".r",
   "mimetype": "text/x-r-source",
   "name": "R",
   "pygments_lexer": "r",
   "version": "4.1.0"
  }
 },
 "nbformat": 4,
 "nbformat_minor": 5
}
